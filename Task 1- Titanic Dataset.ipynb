{
 "cells": [
  {
   "cell_type": "markdown",
   "id": "c325ed92",
   "metadata": {},
   "source": [
    "# Titanic Survival Prediction"
   ]
  },
  {
   "cell_type": "markdown",
   "id": "e67cfa84",
   "metadata": {},
   "source": [
    "In this notebook,I've been tasked with using the famous Titanic Passenger's dataset on Kaggle, to make a model for predicting whether the passenger survived or not.\n",
    "\n",
    "### Contents:\n",
    "\n",
    "Following are the contents of the notebook:\n",
    "* 1. Introduction\n",
    "* 2. Overview of Dataset\n",
    "* 3. Data Preprocessing\n",
    "* 4. Data Visualization\n",
    "* 5. Applying ML Model\n",
    "* 6. Validation of Model\n"
   ]
  },
  {
   "cell_type": "markdown",
   "id": "3765a75f",
   "metadata": {},
   "source": [
    "# Introduction"
   ]
  },
  {
   "cell_type": "markdown",
   "id": "fd549233",
   "metadata": {},
   "source": [
    "We begin by importing the relvant libraries for data analysis and loading the dataset."
   ]
  },
  {
   "cell_type": "code",
   "execution_count": 1,
   "id": "7c04b03e",
   "metadata": {},
   "outputs": [],
   "source": [
    "#importing libraries\n",
    "import numpy as np\n",
    "import pandas as pd\n",
    "import matplotlib.pyplot as plt\n",
    "import plotly.express as px\n",
    "import seaborn as sns"
   ]
  },
  {
   "cell_type": "code",
   "execution_count": 2,
   "id": "2c81815c",
   "metadata": {},
   "outputs": [
    {
     "data": {
      "text/html": [
       "<div>\n",
       "<style scoped>\n",
       "    .dataframe tbody tr th:only-of-type {\n",
       "        vertical-align: middle;\n",
       "    }\n",
       "\n",
       "    .dataframe tbody tr th {\n",
       "        vertical-align: top;\n",
       "    }\n",
       "\n",
       "    .dataframe thead th {\n",
       "        text-align: right;\n",
       "    }\n",
       "</style>\n",
       "<table border=\"1\" class=\"dataframe\">\n",
       "  <thead>\n",
       "    <tr style=\"text-align: right;\">\n",
       "      <th></th>\n",
       "      <th>PassengerId</th>\n",
       "      <th>Survived</th>\n",
       "      <th>Pclass</th>\n",
       "      <th>Name</th>\n",
       "      <th>Sex</th>\n",
       "      <th>Age</th>\n",
       "      <th>SibSp</th>\n",
       "      <th>Parch</th>\n",
       "      <th>Ticket</th>\n",
       "      <th>Fare</th>\n",
       "      <th>Cabin</th>\n",
       "      <th>Embarked</th>\n",
       "    </tr>\n",
       "  </thead>\n",
       "  <tbody>\n",
       "    <tr>\n",
       "      <th>0</th>\n",
       "      <td>892</td>\n",
       "      <td>0</td>\n",
       "      <td>3</td>\n",
       "      <td>Kelly, Mr. James</td>\n",
       "      <td>male</td>\n",
       "      <td>34.5</td>\n",
       "      <td>0</td>\n",
       "      <td>0</td>\n",
       "      <td>330911</td>\n",
       "      <td>7.8292</td>\n",
       "      <td>NaN</td>\n",
       "      <td>Q</td>\n",
       "    </tr>\n",
       "    <tr>\n",
       "      <th>1</th>\n",
       "      <td>893</td>\n",
       "      <td>1</td>\n",
       "      <td>3</td>\n",
       "      <td>Wilkes, Mrs. James (Ellen Needs)</td>\n",
       "      <td>female</td>\n",
       "      <td>47.0</td>\n",
       "      <td>1</td>\n",
       "      <td>0</td>\n",
       "      <td>363272</td>\n",
       "      <td>7.0000</td>\n",
       "      <td>NaN</td>\n",
       "      <td>S</td>\n",
       "    </tr>\n",
       "    <tr>\n",
       "      <th>2</th>\n",
       "      <td>894</td>\n",
       "      <td>0</td>\n",
       "      <td>2</td>\n",
       "      <td>Myles, Mr. Thomas Francis</td>\n",
       "      <td>male</td>\n",
       "      <td>62.0</td>\n",
       "      <td>0</td>\n",
       "      <td>0</td>\n",
       "      <td>240276</td>\n",
       "      <td>9.6875</td>\n",
       "      <td>NaN</td>\n",
       "      <td>Q</td>\n",
       "    </tr>\n",
       "    <tr>\n",
       "      <th>3</th>\n",
       "      <td>895</td>\n",
       "      <td>0</td>\n",
       "      <td>3</td>\n",
       "      <td>Wirz, Mr. Albert</td>\n",
       "      <td>male</td>\n",
       "      <td>27.0</td>\n",
       "      <td>0</td>\n",
       "      <td>0</td>\n",
       "      <td>315154</td>\n",
       "      <td>8.6625</td>\n",
       "      <td>NaN</td>\n",
       "      <td>S</td>\n",
       "    </tr>\n",
       "    <tr>\n",
       "      <th>4</th>\n",
       "      <td>896</td>\n",
       "      <td>1</td>\n",
       "      <td>3</td>\n",
       "      <td>Hirvonen, Mrs. Alexander (Helga E Lindqvist)</td>\n",
       "      <td>female</td>\n",
       "      <td>22.0</td>\n",
       "      <td>1</td>\n",
       "      <td>1</td>\n",
       "      <td>3101298</td>\n",
       "      <td>12.2875</td>\n",
       "      <td>NaN</td>\n",
       "      <td>S</td>\n",
       "    </tr>\n",
       "  </tbody>\n",
       "</table>\n",
       "</div>"
      ],
      "text/plain": [
       "   PassengerId  Survived  Pclass  \\\n",
       "0          892         0       3   \n",
       "1          893         1       3   \n",
       "2          894         0       2   \n",
       "3          895         0       3   \n",
       "4          896         1       3   \n",
       "\n",
       "                                           Name     Sex   Age  SibSp  Parch  \\\n",
       "0                              Kelly, Mr. James    male  34.5      0      0   \n",
       "1              Wilkes, Mrs. James (Ellen Needs)  female  47.0      1      0   \n",
       "2                     Myles, Mr. Thomas Francis    male  62.0      0      0   \n",
       "3                              Wirz, Mr. Albert    male  27.0      0      0   \n",
       "4  Hirvonen, Mrs. Alexander (Helga E Lindqvist)  female  22.0      1      1   \n",
       "\n",
       "    Ticket     Fare Cabin Embarked  \n",
       "0   330911   7.8292   NaN        Q  \n",
       "1   363272   7.0000   NaN        S  \n",
       "2   240276   9.6875   NaN        Q  \n",
       "3   315154   8.6625   NaN        S  \n",
       "4  3101298  12.2875   NaN        S  "
      ]
     },
     "execution_count": 2,
     "metadata": {},
     "output_type": "execute_result"
    }
   ],
   "source": [
    "#loading dataset\n",
    "df=pd.read_csv('tested.csv')\n",
    "df.head()"
   ]
  },
  {
   "cell_type": "markdown",
   "id": "75ac252f",
   "metadata": {},
   "source": [
    "Let's start by describing the dataset and different variables present the dataset.\n",
    "\n",
    "The data has been collected of the information of the passengers that were aboard the vessel 'The Titanic' that tragically sunk in April,1912, killing many of its passengers. Following is a brief description of the different variables present in the dataset.\n",
    "\n",
    "* **Passenger ID:** An ID number given to each passenger aboard the ship.\n",
    "* **Survived:** A binary classification indicating whether the passenger survived or not.\n",
    "* **Pclass:** Indicated the class of the passenger.\n",
    "* **Name:** Name of the passenger.\n",
    "* **Sex:** Indicates the gender of the passengers.\n",
    "* **Age:** Indicates the age of the passengers.\n",
    "* **SibSp:** Indicates the number of siblings/spouse of the passenger.\n",
    "* **Parch:** Indicated the number of parents/children of the passenger.\n",
    "* **Ticket:** Indicates the ticket number.\n",
    "* **Cabin:** Indicates the cabin.\n",
    "* **Embarked:** Indicates the station from which the passenger embarked on.C = Cherbourg; Q = Queenstown; S = Southampton.\n"
   ]
  },
  {
   "cell_type": "markdown",
   "id": "0c396dae",
   "metadata": {},
   "source": [
    "# Overview of the dataset"
   ]
  },
  {
   "cell_type": "code",
   "execution_count": 3,
   "id": "4047f6bb",
   "metadata": {},
   "outputs": [
    {
     "data": {
      "text/html": [
       "<div>\n",
       "<style scoped>\n",
       "    .dataframe tbody tr th:only-of-type {\n",
       "        vertical-align: middle;\n",
       "    }\n",
       "\n",
       "    .dataframe tbody tr th {\n",
       "        vertical-align: top;\n",
       "    }\n",
       "\n",
       "    .dataframe thead th {\n",
       "        text-align: right;\n",
       "    }\n",
       "</style>\n",
       "<table border=\"1\" class=\"dataframe\">\n",
       "  <thead>\n",
       "    <tr style=\"text-align: right;\">\n",
       "      <th></th>\n",
       "      <th>PassengerId</th>\n",
       "      <th>Survived</th>\n",
       "      <th>Pclass</th>\n",
       "      <th>Name</th>\n",
       "      <th>Sex</th>\n",
       "      <th>Age</th>\n",
       "      <th>SibSp</th>\n",
       "      <th>Parch</th>\n",
       "      <th>Ticket</th>\n",
       "      <th>Fare</th>\n",
       "      <th>Cabin</th>\n",
       "      <th>Embarked</th>\n",
       "    </tr>\n",
       "  </thead>\n",
       "  <tbody>\n",
       "    <tr>\n",
       "      <th>0</th>\n",
       "      <td>892</td>\n",
       "      <td>0</td>\n",
       "      <td>3</td>\n",
       "      <td>Kelly, Mr. James</td>\n",
       "      <td>male</td>\n",
       "      <td>34.5</td>\n",
       "      <td>0</td>\n",
       "      <td>0</td>\n",
       "      <td>330911</td>\n",
       "      <td>7.8292</td>\n",
       "      <td>NaN</td>\n",
       "      <td>Q</td>\n",
       "    </tr>\n",
       "    <tr>\n",
       "      <th>1</th>\n",
       "      <td>893</td>\n",
       "      <td>1</td>\n",
       "      <td>3</td>\n",
       "      <td>Wilkes, Mrs. James (Ellen Needs)</td>\n",
       "      <td>female</td>\n",
       "      <td>47.0</td>\n",
       "      <td>1</td>\n",
       "      <td>0</td>\n",
       "      <td>363272</td>\n",
       "      <td>7.0000</td>\n",
       "      <td>NaN</td>\n",
       "      <td>S</td>\n",
       "    </tr>\n",
       "    <tr>\n",
       "      <th>2</th>\n",
       "      <td>894</td>\n",
       "      <td>0</td>\n",
       "      <td>2</td>\n",
       "      <td>Myles, Mr. Thomas Francis</td>\n",
       "      <td>male</td>\n",
       "      <td>62.0</td>\n",
       "      <td>0</td>\n",
       "      <td>0</td>\n",
       "      <td>240276</td>\n",
       "      <td>9.6875</td>\n",
       "      <td>NaN</td>\n",
       "      <td>Q</td>\n",
       "    </tr>\n",
       "    <tr>\n",
       "      <th>3</th>\n",
       "      <td>895</td>\n",
       "      <td>0</td>\n",
       "      <td>3</td>\n",
       "      <td>Wirz, Mr. Albert</td>\n",
       "      <td>male</td>\n",
       "      <td>27.0</td>\n",
       "      <td>0</td>\n",
       "      <td>0</td>\n",
       "      <td>315154</td>\n",
       "      <td>8.6625</td>\n",
       "      <td>NaN</td>\n",
       "      <td>S</td>\n",
       "    </tr>\n",
       "    <tr>\n",
       "      <th>4</th>\n",
       "      <td>896</td>\n",
       "      <td>1</td>\n",
       "      <td>3</td>\n",
       "      <td>Hirvonen, Mrs. Alexander (Helga E Lindqvist)</td>\n",
       "      <td>female</td>\n",
       "      <td>22.0</td>\n",
       "      <td>1</td>\n",
       "      <td>1</td>\n",
       "      <td>3101298</td>\n",
       "      <td>12.2875</td>\n",
       "      <td>NaN</td>\n",
       "      <td>S</td>\n",
       "    </tr>\n",
       "  </tbody>\n",
       "</table>\n",
       "</div>"
      ],
      "text/plain": [
       "   PassengerId  Survived  Pclass  \\\n",
       "0          892         0       3   \n",
       "1          893         1       3   \n",
       "2          894         0       2   \n",
       "3          895         0       3   \n",
       "4          896         1       3   \n",
       "\n",
       "                                           Name     Sex   Age  SibSp  Parch  \\\n",
       "0                              Kelly, Mr. James    male  34.5      0      0   \n",
       "1              Wilkes, Mrs. James (Ellen Needs)  female  47.0      1      0   \n",
       "2                     Myles, Mr. Thomas Francis    male  62.0      0      0   \n",
       "3                              Wirz, Mr. Albert    male  27.0      0      0   \n",
       "4  Hirvonen, Mrs. Alexander (Helga E Lindqvist)  female  22.0      1      1   \n",
       "\n",
       "    Ticket     Fare Cabin Embarked  \n",
       "0   330911   7.8292   NaN        Q  \n",
       "1   363272   7.0000   NaN        S  \n",
       "2   240276   9.6875   NaN        Q  \n",
       "3   315154   8.6625   NaN        S  \n",
       "4  3101298  12.2875   NaN        S  "
      ]
     },
     "execution_count": 3,
     "metadata": {},
     "output_type": "execute_result"
    }
   ],
   "source": [
    "df.head()"
   ]
  },
  {
   "cell_type": "code",
   "execution_count": 4,
   "id": "336f76ca",
   "metadata": {},
   "outputs": [
    {
     "data": {
      "text/html": [
       "<div>\n",
       "<style scoped>\n",
       "    .dataframe tbody tr th:only-of-type {\n",
       "        vertical-align: middle;\n",
       "    }\n",
       "\n",
       "    .dataframe tbody tr th {\n",
       "        vertical-align: top;\n",
       "    }\n",
       "\n",
       "    .dataframe thead th {\n",
       "        text-align: right;\n",
       "    }\n",
       "</style>\n",
       "<table border=\"1\" class=\"dataframe\">\n",
       "  <thead>\n",
       "    <tr style=\"text-align: right;\">\n",
       "      <th></th>\n",
       "      <th>PassengerId</th>\n",
       "      <th>Survived</th>\n",
       "      <th>Pclass</th>\n",
       "      <th>Age</th>\n",
       "      <th>SibSp</th>\n",
       "      <th>Parch</th>\n",
       "      <th>Fare</th>\n",
       "    </tr>\n",
       "  </thead>\n",
       "  <tbody>\n",
       "    <tr>\n",
       "      <th>count</th>\n",
       "      <td>418.000000</td>\n",
       "      <td>418.000000</td>\n",
       "      <td>418.000000</td>\n",
       "      <td>332.000000</td>\n",
       "      <td>418.000000</td>\n",
       "      <td>418.000000</td>\n",
       "      <td>417.000000</td>\n",
       "    </tr>\n",
       "    <tr>\n",
       "      <th>mean</th>\n",
       "      <td>1100.500000</td>\n",
       "      <td>0.363636</td>\n",
       "      <td>2.265550</td>\n",
       "      <td>30.272590</td>\n",
       "      <td>0.447368</td>\n",
       "      <td>0.392344</td>\n",
       "      <td>35.627188</td>\n",
       "    </tr>\n",
       "    <tr>\n",
       "      <th>std</th>\n",
       "      <td>120.810458</td>\n",
       "      <td>0.481622</td>\n",
       "      <td>0.841838</td>\n",
       "      <td>14.181209</td>\n",
       "      <td>0.896760</td>\n",
       "      <td>0.981429</td>\n",
       "      <td>55.907576</td>\n",
       "    </tr>\n",
       "    <tr>\n",
       "      <th>min</th>\n",
       "      <td>892.000000</td>\n",
       "      <td>0.000000</td>\n",
       "      <td>1.000000</td>\n",
       "      <td>0.170000</td>\n",
       "      <td>0.000000</td>\n",
       "      <td>0.000000</td>\n",
       "      <td>0.000000</td>\n",
       "    </tr>\n",
       "    <tr>\n",
       "      <th>25%</th>\n",
       "      <td>996.250000</td>\n",
       "      <td>0.000000</td>\n",
       "      <td>1.000000</td>\n",
       "      <td>21.000000</td>\n",
       "      <td>0.000000</td>\n",
       "      <td>0.000000</td>\n",
       "      <td>7.895800</td>\n",
       "    </tr>\n",
       "    <tr>\n",
       "      <th>50%</th>\n",
       "      <td>1100.500000</td>\n",
       "      <td>0.000000</td>\n",
       "      <td>3.000000</td>\n",
       "      <td>27.000000</td>\n",
       "      <td>0.000000</td>\n",
       "      <td>0.000000</td>\n",
       "      <td>14.454200</td>\n",
       "    </tr>\n",
       "    <tr>\n",
       "      <th>75%</th>\n",
       "      <td>1204.750000</td>\n",
       "      <td>1.000000</td>\n",
       "      <td>3.000000</td>\n",
       "      <td>39.000000</td>\n",
       "      <td>1.000000</td>\n",
       "      <td>0.000000</td>\n",
       "      <td>31.500000</td>\n",
       "    </tr>\n",
       "    <tr>\n",
       "      <th>max</th>\n",
       "      <td>1309.000000</td>\n",
       "      <td>1.000000</td>\n",
       "      <td>3.000000</td>\n",
       "      <td>76.000000</td>\n",
       "      <td>8.000000</td>\n",
       "      <td>9.000000</td>\n",
       "      <td>512.329200</td>\n",
       "    </tr>\n",
       "  </tbody>\n",
       "</table>\n",
       "</div>"
      ],
      "text/plain": [
       "       PassengerId    Survived      Pclass         Age       SibSp  \\\n",
       "count   418.000000  418.000000  418.000000  332.000000  418.000000   \n",
       "mean   1100.500000    0.363636    2.265550   30.272590    0.447368   \n",
       "std     120.810458    0.481622    0.841838   14.181209    0.896760   \n",
       "min     892.000000    0.000000    1.000000    0.170000    0.000000   \n",
       "25%     996.250000    0.000000    1.000000   21.000000    0.000000   \n",
       "50%    1100.500000    0.000000    3.000000   27.000000    0.000000   \n",
       "75%    1204.750000    1.000000    3.000000   39.000000    1.000000   \n",
       "max    1309.000000    1.000000    3.000000   76.000000    8.000000   \n",
       "\n",
       "            Parch        Fare  \n",
       "count  418.000000  417.000000  \n",
       "mean     0.392344   35.627188  \n",
       "std      0.981429   55.907576  \n",
       "min      0.000000    0.000000  \n",
       "25%      0.000000    7.895800  \n",
       "50%      0.000000   14.454200  \n",
       "75%      0.000000   31.500000  \n",
       "max      9.000000  512.329200  "
      ]
     },
     "execution_count": 4,
     "metadata": {},
     "output_type": "execute_result"
    }
   ],
   "source": [
    "# let's get a summary of the statistics\n",
    "df.describe()"
   ]
  },
  {
   "cell_type": "code",
   "execution_count": 5,
   "id": "6aedf878",
   "metadata": {},
   "outputs": [
    {
     "name": "stdout",
     "output_type": "stream",
     "text": [
      "<class 'pandas.core.frame.DataFrame'>\n",
      "RangeIndex: 418 entries, 0 to 417\n",
      "Data columns (total 12 columns):\n",
      " #   Column       Non-Null Count  Dtype  \n",
      "---  ------       --------------  -----  \n",
      " 0   PassengerId  418 non-null    int64  \n",
      " 1   Survived     418 non-null    int64  \n",
      " 2   Pclass       418 non-null    int64  \n",
      " 3   Name         418 non-null    object \n",
      " 4   Sex          418 non-null    object \n",
      " 5   Age          332 non-null    float64\n",
      " 6   SibSp        418 non-null    int64  \n",
      " 7   Parch        418 non-null    int64  \n",
      " 8   Ticket       418 non-null    object \n",
      " 9   Fare         417 non-null    float64\n",
      " 10  Cabin        91 non-null     object \n",
      " 11  Embarked     418 non-null    object \n",
      "dtypes: float64(2), int64(5), object(5)\n",
      "memory usage: 39.3+ KB\n"
     ]
    }
   ],
   "source": [
    "df.info()"
   ]
  },
  {
   "cell_type": "code",
   "execution_count": 6,
   "id": "2262e229",
   "metadata": {},
   "outputs": [
    {
     "data": {
      "text/plain": [
       "(418, 12)"
      ]
     },
     "execution_count": 6,
     "metadata": {},
     "output_type": "execute_result"
    }
   ],
   "source": [
    "df.shape"
   ]
  },
  {
   "cell_type": "code",
   "execution_count": 7,
   "id": "a392d40a",
   "metadata": {},
   "outputs": [
    {
     "data": {
      "text/plain": [
       "PassengerId      0\n",
       "Survived         0\n",
       "Pclass           0\n",
       "Name             0\n",
       "Sex              0\n",
       "Age             86\n",
       "SibSp            0\n",
       "Parch            0\n",
       "Ticket           0\n",
       "Fare             1\n",
       "Cabin          327\n",
       "Embarked         0\n",
       "dtype: int64"
      ]
     },
     "execution_count": 7,
     "metadata": {},
     "output_type": "execute_result"
    }
   ],
   "source": [
    "df.isnull().sum()"
   ]
  },
  {
   "cell_type": "markdown",
   "id": "e4316ebb",
   "metadata": {},
   "source": [
    "# Data Preprocessing\n",
    "In this step, we will filter and preprocess our data to get better and more accurate results in our model."
   ]
  },
  {
   "cell_type": "markdown",
   "id": "7040f8eb",
   "metadata": {},
   "source": [
    "# Handling Missing Values"
   ]
  },
  {
   "cell_type": "code",
   "execution_count": 8,
   "id": "4f7a7e57",
   "metadata": {},
   "outputs": [
    {
     "data": {
      "text/plain": [
       "PassengerId      0\n",
       "Survived         0\n",
       "Pclass           0\n",
       "Name             0\n",
       "Sex              0\n",
       "Age             86\n",
       "SibSp            0\n",
       "Parch            0\n",
       "Ticket           0\n",
       "Fare             1\n",
       "Cabin          327\n",
       "Embarked         0\n",
       "dtype: int64"
      ]
     },
     "execution_count": 8,
     "metadata": {},
     "output_type": "execute_result"
    }
   ],
   "source": [
    "df.isnull().sum()"
   ]
  },
  {
   "cell_type": "markdown",
   "id": "718fe938",
   "metadata": {},
   "source": [
    "There are null values in age,fare and cabin variables.We remove these by median imputation."
   ]
  },
  {
   "cell_type": "code",
   "execution_count": 9,
   "id": "000a591f",
   "metadata": {},
   "outputs": [],
   "source": [
    "#Filling missing age values\n",
    "median_age=df['Age'].median()\n",
    "df['Age']=df['Age'].fillna(median_age)"
   ]
  },
  {
   "cell_type": "code",
   "execution_count": 10,
   "id": "d2f1fb39",
   "metadata": {},
   "outputs": [],
   "source": [
    "#Filling missing fare values\n",
    "median_fare=df['Fare'].median()\n",
    "df['Fare']=df['Fare'].fillna(median_fare)"
   ]
  },
  {
   "cell_type": "markdown",
   "id": "67a38c30",
   "metadata": {},
   "source": [
    "# Dropping irrelevant columns"
   ]
  },
  {
   "cell_type": "markdown",
   "id": "b08814e6",
   "metadata": {},
   "source": [
    "From our analysis,some variables will have no relevant affect on the survival rate.So we are dropping these variables."
   ]
  },
  {
   "cell_type": "code",
   "execution_count": 11,
   "id": "1dd98eed",
   "metadata": {},
   "outputs": [],
   "source": [
    "df.drop(['PassengerId','Name','Cabin','Ticket'], axis =1, inplace=True)"
   ]
  },
  {
   "cell_type": "code",
   "execution_count": 12,
   "id": "05912514",
   "metadata": {},
   "outputs": [
    {
     "data": {
      "text/html": [
       "<div>\n",
       "<style scoped>\n",
       "    .dataframe tbody tr th:only-of-type {\n",
       "        vertical-align: middle;\n",
       "    }\n",
       "\n",
       "    .dataframe tbody tr th {\n",
       "        vertical-align: top;\n",
       "    }\n",
       "\n",
       "    .dataframe thead th {\n",
       "        text-align: right;\n",
       "    }\n",
       "</style>\n",
       "<table border=\"1\" class=\"dataframe\">\n",
       "  <thead>\n",
       "    <tr style=\"text-align: right;\">\n",
       "      <th></th>\n",
       "      <th>Survived</th>\n",
       "      <th>Pclass</th>\n",
       "      <th>Sex</th>\n",
       "      <th>Age</th>\n",
       "      <th>SibSp</th>\n",
       "      <th>Parch</th>\n",
       "      <th>Fare</th>\n",
       "      <th>Embarked</th>\n",
       "    </tr>\n",
       "  </thead>\n",
       "  <tbody>\n",
       "    <tr>\n",
       "      <th>0</th>\n",
       "      <td>0</td>\n",
       "      <td>3</td>\n",
       "      <td>male</td>\n",
       "      <td>34.5</td>\n",
       "      <td>0</td>\n",
       "      <td>0</td>\n",
       "      <td>7.8292</td>\n",
       "      <td>Q</td>\n",
       "    </tr>\n",
       "    <tr>\n",
       "      <th>1</th>\n",
       "      <td>1</td>\n",
       "      <td>3</td>\n",
       "      <td>female</td>\n",
       "      <td>47.0</td>\n",
       "      <td>1</td>\n",
       "      <td>0</td>\n",
       "      <td>7.0000</td>\n",
       "      <td>S</td>\n",
       "    </tr>\n",
       "    <tr>\n",
       "      <th>2</th>\n",
       "      <td>0</td>\n",
       "      <td>2</td>\n",
       "      <td>male</td>\n",
       "      <td>62.0</td>\n",
       "      <td>0</td>\n",
       "      <td>0</td>\n",
       "      <td>9.6875</td>\n",
       "      <td>Q</td>\n",
       "    </tr>\n",
       "    <tr>\n",
       "      <th>3</th>\n",
       "      <td>0</td>\n",
       "      <td>3</td>\n",
       "      <td>male</td>\n",
       "      <td>27.0</td>\n",
       "      <td>0</td>\n",
       "      <td>0</td>\n",
       "      <td>8.6625</td>\n",
       "      <td>S</td>\n",
       "    </tr>\n",
       "    <tr>\n",
       "      <th>4</th>\n",
       "      <td>1</td>\n",
       "      <td>3</td>\n",
       "      <td>female</td>\n",
       "      <td>22.0</td>\n",
       "      <td>1</td>\n",
       "      <td>1</td>\n",
       "      <td>12.2875</td>\n",
       "      <td>S</td>\n",
       "    </tr>\n",
       "  </tbody>\n",
       "</table>\n",
       "</div>"
      ],
      "text/plain": [
       "   Survived  Pclass     Sex   Age  SibSp  Parch     Fare Embarked\n",
       "0         0       3    male  34.5      0      0   7.8292        Q\n",
       "1         1       3  female  47.0      1      0   7.0000        S\n",
       "2         0       2    male  62.0      0      0   9.6875        Q\n",
       "3         0       3    male  27.0      0      0   8.6625        S\n",
       "4         1       3  female  22.0      1      1  12.2875        S"
      ]
     },
     "execution_count": 12,
     "metadata": {},
     "output_type": "execute_result"
    }
   ],
   "source": [
    "df.head()"
   ]
  },
  {
   "cell_type": "markdown",
   "id": "1f037a44",
   "metadata": {},
   "source": [
    "# Handling Categorical Variables"
   ]
  },
  {
   "cell_type": "markdown",
   "id": "895cd5d0",
   "metadata": {},
   "source": [
    "We convert the 'Sex' and 'Embarked' variables into numerical variables"
   ]
  },
  {
   "cell_type": "code",
   "execution_count": 13,
   "id": "afe02fd7",
   "metadata": {},
   "outputs": [],
   "source": [
    "df['Embarked'] = df['Embarked'].map( {'Q': 0,'S':1,'C':2}).astype(int)\n",
    "df['Sex'] = df['Sex'].map( {'female': 1,'male':0}).astype(int)"
   ]
  },
  {
   "cell_type": "code",
   "execution_count": 14,
   "id": "8df6513b",
   "metadata": {},
   "outputs": [],
   "source": [
    "# Converting the float variables into int variables\n",
    "df['Age']=df['Age'].astype(int)\n",
    "df['Fare']=df['Fare'].astype(int)"
   ]
  },
  {
   "cell_type": "code",
   "execution_count": 15,
   "id": "16f4dc29",
   "metadata": {},
   "outputs": [
    {
     "data": {
      "text/plain": [
       "Survived    int64\n",
       "Pclass      int64\n",
       "Sex         int32\n",
       "Age         int32\n",
       "SibSp       int64\n",
       "Parch       int64\n",
       "Fare        int32\n",
       "Embarked    int32\n",
       "dtype: object"
      ]
     },
     "execution_count": 15,
     "metadata": {},
     "output_type": "execute_result"
    }
   ],
   "source": [
    "df.dtypes"
   ]
  },
  {
   "cell_type": "code",
   "execution_count": 16,
   "id": "61043ea3",
   "metadata": {},
   "outputs": [
    {
     "data": {
      "text/plain": [
       "Survived    0\n",
       "Pclass      0\n",
       "Sex         0\n",
       "Age         0\n",
       "SibSp       0\n",
       "Parch       0\n",
       "Fare        0\n",
       "Embarked    0\n",
       "dtype: int64"
      ]
     },
     "execution_count": 16,
     "metadata": {},
     "output_type": "execute_result"
    }
   ],
   "source": [
    "df.isnull().sum()"
   ]
  },
  {
   "cell_type": "code",
   "execution_count": 17,
   "id": "8111c9dc",
   "metadata": {},
   "outputs": [
    {
     "data": {
      "text/html": [
       "<div>\n",
       "<style scoped>\n",
       "    .dataframe tbody tr th:only-of-type {\n",
       "        vertical-align: middle;\n",
       "    }\n",
       "\n",
       "    .dataframe tbody tr th {\n",
       "        vertical-align: top;\n",
       "    }\n",
       "\n",
       "    .dataframe thead th {\n",
       "        text-align: right;\n",
       "    }\n",
       "</style>\n",
       "<table border=\"1\" class=\"dataframe\">\n",
       "  <thead>\n",
       "    <tr style=\"text-align: right;\">\n",
       "      <th></th>\n",
       "      <th>Survived</th>\n",
       "      <th>Pclass</th>\n",
       "      <th>Sex</th>\n",
       "      <th>Age</th>\n",
       "      <th>SibSp</th>\n",
       "      <th>Parch</th>\n",
       "      <th>Fare</th>\n",
       "      <th>Embarked</th>\n",
       "    </tr>\n",
       "  </thead>\n",
       "  <tbody>\n",
       "    <tr>\n",
       "      <th>0</th>\n",
       "      <td>0</td>\n",
       "      <td>3</td>\n",
       "      <td>0</td>\n",
       "      <td>34</td>\n",
       "      <td>0</td>\n",
       "      <td>0</td>\n",
       "      <td>7</td>\n",
       "      <td>0</td>\n",
       "    </tr>\n",
       "    <tr>\n",
       "      <th>1</th>\n",
       "      <td>1</td>\n",
       "      <td>3</td>\n",
       "      <td>1</td>\n",
       "      <td>47</td>\n",
       "      <td>1</td>\n",
       "      <td>0</td>\n",
       "      <td>7</td>\n",
       "      <td>1</td>\n",
       "    </tr>\n",
       "    <tr>\n",
       "      <th>2</th>\n",
       "      <td>0</td>\n",
       "      <td>2</td>\n",
       "      <td>0</td>\n",
       "      <td>62</td>\n",
       "      <td>0</td>\n",
       "      <td>0</td>\n",
       "      <td>9</td>\n",
       "      <td>0</td>\n",
       "    </tr>\n",
       "    <tr>\n",
       "      <th>3</th>\n",
       "      <td>0</td>\n",
       "      <td>3</td>\n",
       "      <td>0</td>\n",
       "      <td>27</td>\n",
       "      <td>0</td>\n",
       "      <td>0</td>\n",
       "      <td>8</td>\n",
       "      <td>1</td>\n",
       "    </tr>\n",
       "    <tr>\n",
       "      <th>4</th>\n",
       "      <td>1</td>\n",
       "      <td>3</td>\n",
       "      <td>1</td>\n",
       "      <td>22</td>\n",
       "      <td>1</td>\n",
       "      <td>1</td>\n",
       "      <td>12</td>\n",
       "      <td>1</td>\n",
       "    </tr>\n",
       "  </tbody>\n",
       "</table>\n",
       "</div>"
      ],
      "text/plain": [
       "   Survived  Pclass  Sex  Age  SibSp  Parch  Fare  Embarked\n",
       "0         0       3    0   34      0      0     7         0\n",
       "1         1       3    1   47      1      0     7         1\n",
       "2         0       2    0   62      0      0     9         0\n",
       "3         0       3    0   27      0      0     8         1\n",
       "4         1       3    1   22      1      1    12         1"
      ]
     },
     "execution_count": 17,
     "metadata": {},
     "output_type": "execute_result"
    }
   ],
   "source": [
    "df.head()"
   ]
  },
  {
   "cell_type": "markdown",
   "id": "b98bf19f",
   "metadata": {},
   "source": [
    "# Data Visualization\n",
    "\n",
    "We start with some data visualizations to get a better understanding of the trends present in our data."
   ]
  },
  {
   "cell_type": "markdown",
   "id": "6e934ea3",
   "metadata": {},
   "source": [
    "## Survival Rate"
   ]
  },
  {
   "cell_type": "code",
   "execution_count": 18,
   "id": "32e9e5af",
   "metadata": {},
   "outputs": [
    {
     "data": {
      "text/plain": [
       "0    266\n",
       "1    152\n",
       "Name: Sex, dtype: int64"
      ]
     },
     "execution_count": 18,
     "metadata": {},
     "output_type": "execute_result"
    }
   ],
   "source": [
    "df['Sex'].value_counts()"
   ]
  },
  {
   "cell_type": "code",
   "execution_count": 19,
   "id": "75d15a4d",
   "metadata": {},
   "outputs": [
    {
     "data": {
      "image/png": "[encoded data removed]",
      "text/plain": [
       "<Figure size 640x480 with 1 Axes>"
      ]
     },
     "metadata": {},
     "output_type": "display_data"
    }
   ],
   "source": [
    "# countplot\n",
    "sns.countplot(data=df,x='Survived')\n",
    "plt.title('Survival Count')\n",
    "plt.text(0.5, -0.15, \"1=Survived,0=Died\", transform=plt.gca().transAxes, ha='center')\n",
    "\n",
    "plt.show()"
   ]
  },
  {
   "cell_type": "markdown",
   "id": "8b47cab3",
   "metadata": {},
   "source": [
    "Let's look at the survival percentage based on different factors such as class and gender."
   ]
  },
  {
   "cell_type": "code",
   "execution_count": 20,
   "id": "9c982459",
   "metadata": {},
   "outputs": [
    {
     "data": {
      "image/png": "[encoded data removed]",
      "text/plain": [
       "<Figure size 558.875x500 with 1 Axes>"
      ]
     },
     "metadata": {},
     "output_type": "display_data"
    }
   ],
   "source": [
    "# Survival percentage by class and gender\n",
    "sns.catplot(data=df, x='Pclass', y='Survived', hue='Sex', kind='bar')\n",
    "plt.title(\"Survival Rate by Class and Gender\")\n",
    "plt.show()"
   ]
  },
  {
   "cell_type": "code",
   "execution_count": 21,
   "id": "019bf274",
   "metadata": {},
   "outputs": [
    {
     "name": "stdout",
     "output_type": "stream",
     "text": [
      "Sex\n",
      "0      0.0\n",
      "1    100.0\n",
      "Name: Survived, dtype: float64\n"
     ]
    }
   ],
   "source": [
    "# Calculate the percentage of survivors by gender\n",
    "survived_gender_percentage = df.groupby('Sex')['Survived'].mean() * 100\n",
    "\n",
    "print(survived_gender_percentage)"
   ]
  },
  {
   "cell_type": "markdown",
   "id": "384155bd",
   "metadata": {},
   "source": [
    "## Age Distribution"
   ]
  },
  {
   "cell_type": "code",
   "execution_count": 22,
   "id": "21733d85",
   "metadata": {},
   "outputs": [
    {
     "data": {
      "image/png": "[encoded data removed]",
      "text/plain": [
       "<Figure size 640x480 with 1 Axes>"
      ]
     },
     "metadata": {},
     "output_type": "display_data"
    }
   ],
   "source": [
    "#Plot to check age distribution\n",
    "sns.histplot(data=df,x='Age',bins=20,kde=True)\n",
    "plt.title('Age Distribution')\n",
    "plt.show()"
   ]
  },
  {
   "cell_type": "code",
   "execution_count": 23,
   "id": "cca9dd6d",
   "metadata": {},
   "outputs": [
    {
     "name": "stdout",
     "output_type": "stream",
     "text": [
      "    Age  Sex\n",
      "1    47    1\n",
      "4    22    1\n",
      "6    30    1\n",
      "8    18    1\n",
      "12   23    1\n"
     ]
    }
   ],
   "source": [
    "def get_survived_age_sex(dataframe):\n",
    "    # Filter passengers who survived\n",
    "    survived_df = dataframe[dataframe['Survived'] == 1]\n",
    "\n",
    "    # Select and return age and sex columns\n",
    "    survived_age_sex = survived_df[['Age', 'Sex']]\n",
    "\n",
    "    return survived_age_sex\n",
    "\n",
    "# Call the function and store the result\n",
    "survived_age_sex_df = get_survived_age_sex(df)\n",
    "\n",
    "print(survived_age_sex_df.head())\n"
   ]
  },
  {
   "cell_type": "markdown",
   "id": "59c51886",
   "metadata": {},
   "source": [
    "## Fare distribution"
   ]
  },
  {
   "cell_type": "code",
   "execution_count": 24,
   "id": "e0345255",
   "metadata": {},
   "outputs": [
    {
     "data": {
      "image/png": "[encoded data removed]",
      "text/plain": [
       "<Figure size 640x480 with 1 Axes>"
      ]
     },
     "metadata": {},
     "output_type": "display_data"
    }
   ],
   "source": [
    "# histogram of fair distributuion\n",
    "\n",
    "sns.histplot(data=df,x='Fare',bins=10,kde=True)\n",
    "plt.title('Fare Distribution')\n",
    "plt.show()"
   ]
  },
  {
   "cell_type": "markdown",
   "id": "1ec3e675",
   "metadata": {},
   "source": [
    "## Class Distribution"
   ]
  },
  {
   "cell_type": "code",
   "execution_count": 25,
   "id": "51662b68",
   "metadata": {},
   "outputs": [
    {
     "data": {
      "image/png": "[encoded data removed]",
      "text/plain": [
       "<Figure size 640x480 with 1 Axes>"
      ]
     },
     "metadata": {},
     "output_type": "display_data"
    }
   ],
   "source": [
    "#plot to show class distribution\n",
    "sns.countplot(data=df,x='Pclass',hue='Survived')\n",
    "plt.title('Passenger Class Distribution')\n",
    "plt.show()"
   ]
  },
  {
   "cell_type": "markdown",
   "id": "d4eb0c09",
   "metadata": {},
   "source": [
    "## Embarked Port and Survival"
   ]
  },
  {
   "cell_type": "code",
   "execution_count": 26,
   "id": "3190304f",
   "metadata": {},
   "outputs": [
    {
     "data": {
      "image/png": "[encoded data removed]",
      "text/plain": [
       "<Figure size 640x480 with 1 Axes>"
      ]
     },
     "metadata": {},
     "output_type": "display_data"
    }
   ],
   "source": [
    "sns.countplot(data=df,x='Embarked',hue='Survived')\n",
    "plt.title('Embarked Port and Survival')\n",
    "plt.show()"
   ]
  },
  {
   "cell_type": "markdown",
   "id": "2e5ff39c",
   "metadata": {},
   "source": [
    "## Age and Fare by Survival"
   ]
  },
  {
   "cell_type": "code",
   "execution_count": 27,
   "id": "8cde3c14",
   "metadata": {},
   "outputs": [
    {
     "data": {
      "image/png": "[encoded data removed]",
      "text/plain": [
       "<Figure size 1000x600 with 1 Axes>"
      ]
     },
     "metadata": {},
     "output_type": "display_data"
    }
   ],
   "source": [
    "\n",
    "# Define the columns to check for outliers\n",
    "columns_to_check = ['Age', 'Fare']\n",
    "\n",
    "# Create boxplots for the specified columns\n",
    "plt.figure(figsize=(10, 6))\n",
    "df[columns_to_check].boxplot()\n",
    "plt.title('Boxplots for Outlier Detection')\n",
    "plt.ylabel('Values')\n",
    "plt.xlabel('Columns')\n",
    "plt.xticks(rotation=45)\n",
    "plt.show()\n"
   ]
  },
  {
   "cell_type": "markdown",
   "id": "50a9fd81",
   "metadata": {},
   "source": [
    "## Removing outliers"
   ]
  },
  {
   "cell_type": "markdown",
   "id": "f22147c2",
   "metadata": {},
   "source": [
    "Let's remove the outliers apparent in the above graph"
   ]
  },
  {
   "cell_type": "code",
   "execution_count": 28,
   "id": "1f09a13d",
   "metadata": {},
   "outputs": [],
   "source": [
    "columns_to_check=['Age','Fare']\n",
    "# We will make a function for removing outliers using the IQR method\n",
    "def remove_outliers(data,column):\n",
    "    Q1=df[column].quantile(0.25)\n",
    "    Q3=df[column].quantile(0.75)\n",
    "    IQR=Q3-Q1\n",
    "    lower_bound = Q1 - 1.5 * IQR\n",
    "    upper_bound = Q3 + 1.5 * IQR\n",
    "    df_filtered = df[(df[column] >= lower_bound) & (df[column] <= upper_bound)]\n",
    "    return df_filtered\n",
    "# Remove outliers from selected columns\n",
    "for column in columns_to_check:\n",
    "    titanic_data = remove_outliers(df, column)\n",
    "\n",
    "    "
   ]
  },
  {
   "cell_type": "markdown",
   "id": "be35a0a5",
   "metadata": {},
   "source": [
    "Again we plot the boxplots"
   ]
  },
  {
   "cell_type": "code",
   "execution_count": 29,
   "id": "dc762735",
   "metadata": {},
   "outputs": [
    {
     "data": {
      "image/png": "[encoded data removed]",
      "text/plain": [
       "<Figure size 1000x600 with 1 Axes>"
      ]
     },
     "metadata": {},
     "output_type": "display_data"
    }
   ],
   "source": [
    "\n",
    "# Define the columns to check for outliers\n",
    "columns_to_check = ['Age', 'Fare']\n",
    "\n",
    "# Create boxplots for the specified columns\n",
    "plt.figure(figsize=(10, 6))\n",
    "titanic_data[columns_to_check].boxplot()\n",
    "plt.title('Boxplots for Outlier Detection')\n",
    "plt.ylabel('Values')\n",
    "plt.xlabel('Columns')\n",
    "plt.xticks(rotation=45)\n",
    "plt.show()"
   ]
  },
  {
   "cell_type": "code",
   "execution_count": 30,
   "id": "789245ba",
   "metadata": {},
   "outputs": [
    {
     "data": {
      "text/plain": [
       "(418, 8)"
      ]
     },
     "execution_count": 30,
     "metadata": {},
     "output_type": "execute_result"
    }
   ],
   "source": [
    "df.shape"
   ]
  },
  {
   "cell_type": "markdown",
   "id": "fcc87436",
   "metadata": {},
   "source": [
    "## Correlation Heatmap"
   ]
  },
  {
   "cell_type": "code",
   "execution_count": 31,
   "id": "ab543989",
   "metadata": {},
   "outputs": [
    {
     "data": {
      "image/png": "[encoded data removed]",
      "text/plain": [
       "<Figure size 640x480 with 2 Axes>"
      ]
     },
     "metadata": {},
     "output_type": "display_data"
    }
   ],
   "source": [
    "corr_matrix=df.corr()\n",
    "sns.heatmap(corr_matrix,annot=True,cmap='YlGnBu')\n",
    "plt.title('Correlation Heatmap')\n",
    "plt.show()"
   ]
  },
  {
   "cell_type": "markdown",
   "id": "b8832127",
   "metadata": {},
   "source": [
    "# Applying ML Model"
   ]
  },
  {
   "cell_type": "markdown",
   "id": "9b1e16d1",
   "metadata": {},
   "source": [
    "Now we have to apply models to the refined dataset,in order to predict the survival rate. We will apply the Support Vector Machine Model using different kernels."
   ]
  },
  {
   "cell_type": "markdown",
   "id": "cf915cc9",
   "metadata": {},
   "source": [
    "## Splitting the data"
   ]
  },
  {
   "cell_type": "code",
   "execution_count": 32,
   "id": "f0f22efa",
   "metadata": {},
   "outputs": [],
   "source": [
    "from sklearn.model_selection import train_test_split\n",
    "x=df.drop(['Survived'],axis=1)\n",
    "y=df['Survived']\n",
    "x_train,x_test,y_train,y_test=train_test_split(x,y,test_size=0.2,random_state=1)\n"
   ]
  },
  {
   "cell_type": "markdown",
   "id": "f69bc9fe",
   "metadata": {},
   "source": [
    "# Support Vector Machines"
   ]
  },
  {
   "cell_type": "markdown",
   "id": "9afb678f",
   "metadata": {},
   "source": [
    "We will run the model using two kernels-polynomial and rbf. Then we will compare the accuracy of both."
   ]
  },
  {
   "cell_type": "markdown",
   "id": "46b9c853",
   "metadata": {},
   "source": [
    "## Using polynomial kernel"
   ]
  },
  {
   "cell_type": "code",
   "execution_count": 33,
   "id": "2e64235a",
   "metadata": {},
   "outputs": [
    {
     "name": "stdout",
     "output_type": "stream",
     "text": [
      "Model accuracy score with polynomial kernel and C=1000.0 : 0.8928571428571429\n"
     ]
    }
   ],
   "source": [
    "from sklearn.svm import SVC\n",
    "# instantiate classifier with polynomial kernel and C=1000.0\n",
    "poly_svc=SVC(kernel='poly', C=1000.0) \n",
    "\n",
    "\n",
    "# fit classifier to training set\n",
    "poly_svc.fit(x_train,y_train)\n",
    "\n",
    "\n",
    "# make predictions on test set\n",
    "y_pred_poly=poly_svc.predict(x_test)\n",
    "# compute and print accuracy score\n",
    "from sklearn.metrics import accuracy_score\n",
    "svc_poly_score=accuracy_score(y_test,y_pred_poly)\n",
    "\n",
    "print('Model accuracy score with polynomial kernel and C=1000.0 :',svc_poly_score)"
   ]
  },
  {
   "cell_type": "markdown",
   "id": "14a01e58",
   "metadata": {},
   "source": [
    "## Using rbf kernel"
   ]
  },
  {
   "cell_type": "code",
   "execution_count": 34,
   "id": "0c0a2d15",
   "metadata": {},
   "outputs": [
    {
     "name": "stdout",
     "output_type": "stream",
     "text": [
      "Model accuracy score with rbf kernel and C=100: 0.9761904761904762\n"
     ]
    }
   ],
   "source": [
    "# instantiate classifier with rbf kernel and C=100.0\n",
    "poly_svc=SVC(kernel='rbf', C=100.0) \n",
    "\n",
    "\n",
    "# fit classifier to training set\n",
    "poly_svc.fit(x_train,y_train)\n",
    "\n",
    "\n",
    "# make predictions on test set\n",
    "y_pred_rbf=poly_svc.predict(x_test)\n",
    "\n",
    "svc_rbf_score=accuracy_score(y_test, y_pred_rbf)\n",
    "# compute and print accuracy score\n",
    "print('Model accuracy score with rbf kernel and C=100:',svc_rbf_score)"
   ]
  },
  {
   "cell_type": "markdown",
   "id": "5e6d8089",
   "metadata": {},
   "source": [
    "**Note:** If C=1000 for the rbf kernel,accuracy becomes 1."
   ]
  },
  {
   "cell_type": "markdown",
   "id": "d4e73d04",
   "metadata": {},
   "source": [
    "# Comparision of results\n",
    "\n",
    "Now,we compare the accuracy scores of the different kernels for the model we have applied:"
   ]
  },
  {
   "cell_type": "code",
   "execution_count": 35,
   "id": "c9a68f04",
   "metadata": {},
   "outputs": [
    {
     "name": "stdout",
     "output_type": "stream",
     "text": [
      "Model accuracy score with polynomial kernel and C=1000.0 : 0.8928571428571429\n",
      "Model accuracy score with rbf kernel and C=100: 0.9761904761904762\n"
     ]
    }
   ],
   "source": [
    "print('Model accuracy score with polynomial kernel and C=1000.0 :',svc_poly_score)\n",
    "print('Model accuracy score with rbf kernel and C=100:',svc_rbf_score)"
   ]
  },
  {
   "cell_type": "markdown",
   "id": "8658bac5",
   "metadata": {},
   "source": [
    "# Validation of Results"
   ]
  },
  {
   "cell_type": "markdown",
   "id": "e382dae2",
   "metadata": {},
   "source": [
    "We can validate our results using different techniques.Here,I'll be using two techniques:\n",
    "* Confusion Matrix\n",
    "* Classification Report"
   ]
  },
  {
   "cell_type": "markdown",
   "id": "41de0e1d",
   "metadata": {},
   "source": [
    "## Confusion Matrix\n",
    "\n",
    "A confusion matrix is a good tool for evaluating the performance of our classification model.It gives us the number of true and false positives and negatives."
   ]
  },
  {
   "cell_type": "code",
   "execution_count": 36,
   "id": "5abba56b",
   "metadata": {},
   "outputs": [
    {
     "name": "stdout",
     "output_type": "stream",
     "text": [
      "\n",
      "True Positives(TP) =  58\n",
      "\n",
      "True Negatives(TN) =  17\n",
      "\n",
      "False Positives(FP) =  0\n",
      "\n",
      "False Negatives(FN) =  9\n"
     ]
    },
    {
     "data": {
      "image/png": "[encoded data removed]",
      "text/plain": [
       "<Figure size 800x600 with 1 Axes>"
      ]
     },
     "metadata": {},
     "output_type": "display_data"
    },
    {
     "name": "stdout",
     "output_type": "stream",
     "text": [
      "\n",
      "True Positives(TP) =  56\n",
      "\n",
      "True Negatives(TN) =  26\n",
      "\n",
      "False Positives(FP) =  2\n",
      "\n",
      "False Negatives(FN) =  0\n"
     ]
    },
    {
     "data": {
      "image/png": "[encoded data removed]",
      "text/plain": [
       "<Figure size 800x600 with 1 Axes>"
      ]
     },
     "metadata": {},
     "output_type": "display_data"
    }
   ],
   "source": [
    "#For Polynomial kernel\n",
    "from sklearn.metrics import confusion_matrix\n",
    "\n",
    "# Compute the confusion matrix\n",
    "cm = confusion_matrix(y_test, y_pred_poly)\n",
    "\n",
    "# Create a heatmap for the confusion matrix\n",
    "plt.figure(figsize=(8, 6))\n",
    "sns.set(font_scale=1.2)\n",
    "sns.heatmap(cm, annot=True, fmt=\"d\", cmap=\"Blues\", annot_kws={\"size\": 16}, cbar=False)\n",
    "\n",
    "# Add labels and title\n",
    "plt.xlabel(\"Predicted\")\n",
    "plt.ylabel(\"Actual\")\n",
    "# Add labels for true positives, true negatives, false positives, and false negatives\n",
    "print('\\nTrue Positives(TP) = ', cm[0,0])\n",
    "\n",
    "print('\\nTrue Negatives(TN) = ', cm[1,1])\n",
    "\n",
    "print('\\nFalse Positives(FP) = ', cm[0,1])\n",
    "\n",
    "print('\\nFalse Negatives(FN) = ', cm[1,0])\n",
    "plt.title(\"Confusion Matrix for Polynomial Kernel\")\n",
    "\n",
    "# Display the plot\n",
    "plt.show()\n",
    "\n",
    "#For rbf kernel\n",
    "\n",
    "# Compute the confusion matrix\n",
    "cm = confusion_matrix(y_test, y_pred_rbf)\n",
    "\n",
    "# Create a heatmap for the confusion matrix\n",
    "plt.figure(figsize=(8, 6))\n",
    "sns.set(font_scale=1.2)\n",
    "sns.heatmap(cm, annot=True, fmt=\"d\", cmap=\"Blues\", annot_kws={\"size\": 16}, cbar=False)\n",
    "\n",
    "# Add labels and title\n",
    "plt.xlabel(\"Predicted\")\n",
    "plt.ylabel(\"Actual\")\n",
    "# Add labels for true positives, true negatives, false positives, and false negatives\n",
    "print('\\nTrue Positives(TP) = ', cm[0,0])\n",
    "\n",
    "print('\\nTrue Negatives(TN) = ', cm[1,1])\n",
    "\n",
    "print('\\nFalse Positives(FP) = ', cm[0,1])\n",
    "\n",
    "print('\\nFalse Negatives(FN) = ', cm[1,0])\n",
    "plt.title(\"Confusion Matrix for rbf Kernel\")\n",
    "\n",
    "# Display the plot\n",
    "plt.show()"
   ]
  },
  {
   "cell_type": "markdown",
   "id": "e2f87aab",
   "metadata": {},
   "source": [
    "## Classification Report\n",
    "\n",
    "\n",
    "\n",
    "A classification report is a summary of various classification metrics that are used to evaluate the performance of a classification model.It includes the following parameters:\n",
    "\n",
    "* 1.Precision: The ratio of true positive predictions to total positive predictions, measuring the accuracy of positive predictions.\n",
    "\n",
    "* 2.Recall (Sensitivity): The ratio of true positive predictions to total actual positives, indicating the model's ability to capture positive instances.\n",
    "\n",
    "* 3.F1-Score: The harmonic mean of precision and recall, providing a balanced measure of overall model performance.\n",
    "\n",
    "* 4.Support: The number of true instances for each class in the dataset, helping to understand class distribution.\n",
    "\n",
    "* 5.Accuracy: The ratio of correct predictions to total predictions, representing the overall correctness of predictions."
   ]
  },
  {
   "cell_type": "code",
   "execution_count": 37,
   "id": "35cac8a2",
   "metadata": {},
   "outputs": [
    {
     "name": "stdout",
     "output_type": "stream",
     "text": [
      "              precision    recall  f1-score   support\n",
      "\n",
      "           0       0.87      1.00      0.93        58\n",
      "           1       1.00      0.65      0.79        26\n",
      "\n",
      "    accuracy                           0.89        84\n",
      "   macro avg       0.93      0.83      0.86        84\n",
      "weighted avg       0.91      0.89      0.89        84\n",
      "\n"
     ]
    }
   ],
   "source": [
    "from sklearn.metrics import classification_report\n",
    "\n",
    "# Calculate the F1-Score for polynomial kernel\n",
    "class_poly = classification_report(y_test, y_pred_poly)\n",
    "\n",
    "# Print the F1-Score\n",
    "print( class_poly)"
   ]
  },
  {
   "cell_type": "code",
   "execution_count": 38,
   "id": "69e8769a",
   "metadata": {},
   "outputs": [
    {
     "name": "stdout",
     "output_type": "stream",
     "text": [
      "              precision    recall  f1-score   support\n",
      "\n",
      "           0       1.00      0.97      0.98        58\n",
      "           1       0.93      1.00      0.96        26\n",
      "\n",
      "    accuracy                           0.98        84\n",
      "   macro avg       0.96      0.98      0.97        84\n",
      "weighted avg       0.98      0.98      0.98        84\n",
      "\n"
     ]
    }
   ],
   "source": [
    "# Calculate the F1-Score for rbf kernel\n",
    "class_rbf = classification_report(y_test, y_pred_rbf)\n",
    "\n",
    "# Print the F1-Score\n",
    "print( class_rbf)"
   ]
  },
  {
   "cell_type": "markdown",
   "id": "dc5ae20c",
   "metadata": {},
   "source": [
    "# Conclusion\n",
    "\n",
    "The best performing model is the rbf kernel SVM."
   ]
  }
 ],
 "metadata": {
  "kernelspec": {
   "display_name": "Python 3 (ipykernel)",
   "language": "python",
   "name": "python3"
  },
  "language_info": {
   "codemirror_mode": {
    "name": "ipython",
    "version": 3
   },
   "file_extension": ".py",
   "mimetype": "text/x-python",
   "name": "python",
   "nbconvert_exporter": "python",
   "pygments_lexer": "ipython3",
   "version": "3.9.13"
  }
 },
 "nbformat": 4,
 "nbformat_minor": 5
}
